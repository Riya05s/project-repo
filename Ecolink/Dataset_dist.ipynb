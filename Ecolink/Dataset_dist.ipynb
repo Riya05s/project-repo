{
 "cells": [
  {
   "cell_type": "code",
   "execution_count": null,
   "id": "b6f9a76b-0a6e-4ef0-a865-541745439717",
   "metadata": {},
   "outputs": [
    {
     "name": "stdout",
     "output_type": "stream",
     "text": [
      "Updated dataset saved to: C:\\Users\\riya5\\OneDrive\\Documents\\ECO_LINK_DAA_PROJECT\\Ecolinkdaanew\\daa_states_dataset.csv\n",
      "        Source Destination  Distance (km)\n",
      "0  Jim Corbett      Rajaji      83.903919\n",
      "1  Jim Corbett   Kaziranga    1467.473630\n",
      "2       Rajaji   Kaziranga    1528.475900\n",
      "3    Kaziranga  Sundarbans     663.571935\n",
      "4   Sundarbans  Gir Forest    1902.951913\n"
     ]
    }
   ],
   "source": [
    "import pandas as pd\n",
    "from geopy.distance import geodesic\n",
    "df = pd.read_csv(r\"C:\\Users\\riya5\\OneDrive\\Documents\\ECO_LINK_DAA_PROJECT\\Ecolinkdaanew\\daa_states_dataset.csv\")  \n",
    "\n",
    "df.columns = df.columns.str.strip()\n",
    "\n",
    "# distance calculation function\n",
    "def calculate_geodesic_distance(row):\n",
    "    source_coords = (row[\"Source_Latitude\"], row[\"Source_Longitude\"])\n",
    "    dest_coords = (row[\"Destination_Latitude\"], row[\"Destination_Longitude\"])\n",
    "    return geodesic(source_coords, dest_coords).kilometers\n",
    "\n",
    "df[\"Distance (km)\"] = df.apply(calculate_geodesic_distance, axis=1)\n",
    "\n",
    "output_path = r\"C:\\Users\\riya5\\OneDrive\\Documents\\ECO_LINK_DAA_PROJECT\\Ecolinkdaanew\\daa_states_dataset.csv\"\n",
    "df.to_csv(output_path, index=False)\n",
    "\n",
    "print(f\"Updated dataset saved to: {output_path}\")\n",
    "print(df[[\"Source\", \"Destination\", \"Distance (km)\"]].head())\n"
   ]
  },
  {
   "cell_type": "code",
   "execution_count": 2,
   "id": "6c524cab-fadc-4ad8-bf83-25ccba5165a8",
   "metadata": {},
   "outputs": [
    {
     "name": "stdout",
     "output_type": "stream",
     "text": [
      "Collecting geopyNote: you may need to restart the kernel to use updated packages.\n",
      "\n",
      "  Downloading geopy-2.4.1-py3-none-any.whl.metadata (6.8 kB)\n",
      "Collecting geographiclib<3,>=1.52 (from geopy)\n",
      "  Downloading geographiclib-2.0-py3-none-any.whl.metadata (1.4 kB)\n",
      "Downloading geopy-2.4.1-py3-none-any.whl (125 kB)\n",
      "Downloading geographiclib-2.0-py3-none-any.whl (40 kB)\n",
      "Installing collected packages: geographiclib, geopy\n",
      "\n",
      "   ---------------------------------------- 0/2 [geographiclib]\n",
      "   ---------------------------------------- 0/2 [geographiclib]\n",
      "   -------------------- ------------------- 1/2 [geopy]\n",
      "   -------------------- ------------------- 1/2 [geopy]\n",
      "   -------------------- ------------------- 1/2 [geopy]\n",
      "   -------------------- ------------------- 1/2 [geopy]\n",
      "   -------------------- ------------------- 1/2 [geopy]\n",
      "   -------------------- ------------------- 1/2 [geopy]\n",
      "   -------------------- ------------------- 1/2 [geopy]\n",
      "   -------------------- ------------------- 1/2 [geopy]\n",
      "   -------------------- ------------------- 1/2 [geopy]\n",
      "   ---------------------------------------- 2/2 [geopy]\n",
      "\n",
      "Successfully installed geographiclib-2.0 geopy-2.4.1\n"
     ]
    }
   ],
   "source": [
    "pip install geopy"
   ]
  },
  {
   "cell_type": "code",
   "execution_count": null,
   "id": "89d52d24-22c5-486b-b4ec-28dd36e8772e",
   "metadata": {},
   "outputs": [],
   "source": []
  }
 ],
 "metadata": {
  "kernelspec": {
   "display_name": "Python 3",
   "language": "python",
   "name": "python3"
  },
  "language_info": {
   "codemirror_mode": {
    "name": "ipython",
    "version": 3
   },
   "file_extension": ".py",
   "mimetype": "text/x-python",
   "name": "python",
   "nbconvert_exporter": "python",
   "pygments_lexer": "ipython3",
   "version": "3.12.6"
  }
 },
 "nbformat": 4,
 "nbformat_minor": 5
}
