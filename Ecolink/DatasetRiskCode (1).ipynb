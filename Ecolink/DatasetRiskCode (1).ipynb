{
 "cells": [
  {
   "cell_type": "code",
   "execution_count": 2,
   "id": "82a2a29c-4b67-4ecf-a155-19d0f8ef5822",
   "metadata": {},
   "outputs": [],
   "source": [
    "import pandas as pd\n",
    "import numpy as np\n",
    "\n",
    "df = pd.read_csv(r\"C:\\Users\\riya5\\OneDrive\\Documents\\DAAEcoMapMusk\\newdaaeco (3)\\newdaaeco\\newdaaeco\\newdaa\\Ecolinkdaanew\\DAAdatasetfinal.csv\")\n",
    "df.columns = df.columns.str.strip()  # clean up column names\n"
   ]
  },
  {
   "cell_type": "code",
   "execution_count": null,
   "id": "440caa2f-5d8b-4a72-ae61-f4e9748dca8d",
   "metadata": {},
   "outputs": [],
   "source": [
    "import pandas as pd\n",
    "import numpy as np\n",
    "df = pd.read_csv(r\"C:\\Users\\riya5\\OneDrive\\Documents\\DAAEcoMapMusk\\newdaaeco (3)\\newdaaeco\\newdaaeco\\newdaa\\Ecolinkdaanew\\DAAdatasetfinal.csv\")\n",
    "df.columns = df.columns.str.strip()\n",
    "np.random.seed(42)\n",
    "\n",
    "df[\"Human Disturbance\"] = np.random.uniform(0, 1, size=len(df))\n",
    "df[\"Predator Presence\"] = np.random.uniform(0, 1, size=len(df))\n",
    "df[\"Environmental Hazard\"] = np.random.uniform(0, 1, size=len(df))\n",
    "df[\"Physical Barrier\"] = np.random.uniform(0, 1, size=len(df))\n",
    "\n",
    "# Final Risk Level scaled from 0 to 5\n",
    "df[\"Risk Level\"] = (\n",
    "    (df[\"Human Disturbance\"] +\n",
    "     df[\"Predator Presence\"] +\n",
    "     df[\"Environmental Hazard\"] +\n",
    "     df[\"Physical Barrier\"]) / 4\n",
    ") * 5\n",
    "\n",
    "df[\"Risk Level\"] = df[\"Risk Level\"].round().astype(int)\n",
    "df.to_csv(r\"C:\\Users\\riya5\\Downloads\\DAAdatasetfinal_with_scores.csv\", index=False)\n"
   ]
  },
  {
   "cell_type": "code",
   "execution_count": null,
   "id": "f7cd5711-c6b8-4be3-9f1f-aa4f1f42f645",
   "metadata": {},
   "outputs": [],
   "source": [
    "\"C:\\Users\\riya5\\OneDrive\\Desktop\\DAAdatasetfinal.csv\""
   ]
  }
 ],
 "metadata": {
  "kernelspec": {
   "display_name": "Python 3 (ipykernel)",
   "language": "python",
   "name": "python3"
  },
  "language_info": {
   "codemirror_mode": {
    "name": "ipython",
    "version": 3
   },
   "file_extension": ".py",
   "mimetype": "text/x-python",
   "name": "python",
   "nbconvert_exporter": "python",
   "pygments_lexer": "ipython3",
   "version": "3.12.6"
  }
 },
 "nbformat": 4,
 "nbformat_minor": 5
}
