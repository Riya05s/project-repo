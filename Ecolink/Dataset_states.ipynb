{
 "cells": [
  {
   "cell_type": "code",
   "execution_count": null,
   "id": "0c2b534d-d686-4a3c-a806-9aa3dd8ac65d",
   "metadata": {},
   "outputs": [
    {
     "name": "stdout",
     "output_type": "stream",
     "text": [
      "        Source Source_State Destination Destination_State\n",
      "0  Jim Corbett  Uttarakhand      Rajaji       Uttarakhand\n",
      "1  Jim Corbett  Uttarakhand   Kaziranga             Assam\n",
      "2       Rajaji  Uttarakhand   Kaziranga             Assam\n",
      "3    Kaziranga        Assam  Sundarbans       West Bengal\n",
      "4   Sundarbans  West Bengal  Gir Forest           Gujarat\n"
     ]
    }
   ],
   "source": [
    "import pandas as pd\n",
    "\n",
    "\n",
    "df = pd.read_csv(r\"C:\\Users\\riya5\\Downloads\\daa_states_dataset.csv\")  \n",
    "\n",
    "location_to_state = {\n",
    "    \"Jim Corbett\": \"Uttarakhand\",\n",
    "    \"Rajaji\": \"Uttarakhand\",\n",
    "    \"Kaziranga\": \"Assam\",\n",
    "    \"Sundarbans\": \"West Bengal\",\n",
    "    \"Gir Forest\": \"Gujarat\",\n",
    "    \"Ranthambore\": \"Rajasthan\",\n",
    "    \"Kanha\": \"Madhya Pradesh\",\n",
    "    \"Bandipur\": \"Karnataka\",\n",
    "    \"Nagarhole\": \"Karnataka\",\n",
    "    \"Mudumalai\": \"Tamil Nadu\",\n",
    "    \"Periyar\": \"Kerela\",\n",
    "    \"Bandhavgarh\": \"Madhya Pradesh\",\n",
    "    \"Manas\": \"Assam\",\n",
    "    \"Sariska\": \"Rajasthan\",\n",
    "    \"Pench\": \"Madhya Pradesh\",\n",
    "    \"Tadoba\": \"Maharashtra\",\n",
    "    \n",
    "}\n",
    "\n",
    "df[\"Source_State\"] = df[\"Source\"].map(location_to_state)\n",
    "df[\"Destination_State\"] = df[\"Destination\"].map(location_to_state)\n",
    "\n",
    "df.to_csv(r\"C:\\Users\\riya5\\OneDrive\\Documents\\ECO_LINK_DAA_PROJECT\\Ecolinkdaanew\\daa_states_dataset.csv\", index=False)\n",
    "\n",
    "print(df[[\"Source\", \"Source_State\", \"Destination\", \"Destination_State\"]].head())\n"
   ]
  },
  {
   "cell_type": "code",
   "execution_count": null,
   "id": "aee38a38-8257-48b6-a5a9-8eaecf858704",
   "metadata": {},
   "outputs": [],
   "source": []
  },
  {
   "cell_type": "code",
   "execution_count": null,
   "id": "78a9590c-62c9-4c5b-90ac-01d95b78c2c6",
   "metadata": {},
   "outputs": [],
   "source": []
  }
 ],
 "metadata": {
  "kernelspec": {
   "display_name": "Python 3 (ipykernel)",
   "language": "python",
   "name": "python3"
  },
  "language_info": {
   "codemirror_mode": {
    "name": "ipython",
    "version": 3
   },
   "file_extension": ".py",
   "mimetype": "text/x-python",
   "name": "python",
   "nbconvert_exporter": "python",
   "pygments_lexer": "ipython3",
   "version": "3.12.6"
  }
 },
 "nbformat": 4,
 "nbformat_minor": 5
}
